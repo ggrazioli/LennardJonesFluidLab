{
 "cells": [
  {
   "cell_type": "markdown",
   "metadata": {},
   "source": [
    "# Lennard-Jones Fluid Simulation Lab\n",
    "This laboratory exercise and the accompanying Lennard-Jones fluid simulation Python code were both written by:\n",
    "<br> **Gianmarc Grazioli, Ph.D.** \n",
    "\n",
    "<br> For more information about the author, please visit http://gianmarc.com/\n",
    "\n",
    "### Student Learning Outcomes\n",
    "#### Upon completing this lab, students will be able to:\n",
    "- Perform a few simple functions in Jupyter notebooks like executing code cells (__press shift + enter__) \n",
    "- Perform a few simple functions using the Python programming language, like accessing attributes from Python objects (e.g. use the dot like this: __system1.pressure__ to access the pressure of the object system1)\n",
    "- Run Lennard-Jones fluid simulations using the included Python code written by Dr. Grazioli \n",
    "- Use algebra and knowledge of the Lennard-Jones force equation to calculate the value of the parameter *b* from the Van der Waals equation for a Lennard-Jones fluid\n",
    "- Use linear regression on data produced by a set of Lennard-Jones molecular simulations to calculate the value of the parameter *a* from the Van der Waals equation for a Lennard-Jones fluid\n",
    "\n",
    "### Accompanying Video Lesson\n",
    "In addition to reading the instructions given here, it is <u>**highly**</u> recommended that you follow along with the video tutorial for this laboratory exercise as you work on it. The video can be found here: https://youtu.be/WgyuJYh1VaA\n",
    "\n",
    "### Submitting the Completed Assignment\n",
    "This Jupyter notebook is intended to be used like a digital worksheet or notebook. By this, I mean that you should complete this laboratory assigment directly in this Jupyter notebook. When you complete the assignment, you will then upload a copy of this Jupyter notebook that you have modified along with digital photos of any work you completed on scrap paper. \n",
    "\n",
    "### A Common Source of Confusion for Students Starting out with Jupyter\n",
    "Once you have installed Anaconda (instructions: https://youtu.be/Y-9Hlrq1kt8), you are able to create and open Juypter notebooks (tutorial: https://youtu.be/ffECekZH4Yk). One thing that sometimes confuses students is that Jupyter notebooks are opened in a browser, giving the impression that the notebook is online, but it is not! When you download the files for this lesson, it included a file called LennardJonesFluidLab.ipynb. Any changes you make to this notebook are saved in the file LennardJonesFluidLab.ipynb. It only appears to be online because your browser is used to view and edit Jupyter notebooks."
   ]
  },
  {
   "cell_type": "markdown",
   "metadata": {},
   "source": [
    "## Background\n",
    "Lennard-Jones fluid simulations are some of the oldest molecular simulations in the history of computational chemistry and physics. I believe this paper from 1957 is the first ever computer simulation of a Lennard-Jones (LJ) fluid:\n",
    "https://aip.scitation.org/doi/abs/10.1063/1.1743822. Much has changed since then (e.g. your phone could run circles around the room-sized computers they used), but the LJ fluid remains a powerful tool for understanding the behavior of fluids that is still widely used today! \n",
    "### Motivation for the LJ Fluid Model\n",
    "The forces driving the motions of fluids are the result of incredibly complex interactions governmed by quantum mechanical effects. Although it is possible to model these quantum effects directly and calculate the forces from them (often called _ab initio_ simulations - meaning *from the beginning*), a much less computationally expensive approach is to fit mathematical functions that return approximately the same forces that solving the more difficult quantum equations would yield. Consider a noble gas, like argon. We know that the interaction energy between two argon atoms that are very far apart (say 500 $\\mathring A$ apart) should be pretty much constant if we make a small change to that large distance. At the opposite extreme, pushing two argon atoms together very close should make the energy grow very large very quickly. We also know that, when within a few $\\mathring A$ or so of each other, argon atoms are attracted to each other via Van der Waals forces. There must also be some sort of \"happy medium\" equilibrium bond length where the atoms are neither being push apart or pulled together, a bit like a spring that is at its equilibrium length. The Lennard-Jones potential energy function is pretty much the simplest mathematical function that will nicely accomplish all of these conditions. The Lennard-Jones potential energy function is defined in **Eq. 1** below:\n",
    "### $$ U(r_{ij}) = 4\\epsilon \\left( \\left(\\frac{\\sigma}{r_{ij}}\\right)^{12} - \\left(\\frac{\\sigma}{r_{ij}}\\right)^{6}\\right)$$\n",
    "\n",
    "where $U(r_{ij})$ is the potential energy due to molecules $i$ and $j$ interacting at a distance $r_{ij}$, and $\\sigma$ and $\\epsilon$ are parameters that can be tuned to fit the behavior of different types of interacting particles. For a more in-depth look at the Lennard-Jones potential, there is an excellent article by Luca Zammataro that I recommend you check out (https://towardsdatascience.com/the-lennard-jones-potential-35b2bae9446c). \n",
    "\n",
    "### The Microcanonical Ensemble\n",
    "Just like a group of musicians is called an ensemble, the name given to a group of particles, in the standard nomenclature of statistical mechanics, is an *ensemble* (also the reason I named the Python object that stores a collection of molecules an Ensemble in my Python simulation code). Specifically, the type of ensemble we'll be working with is what is known as a *microcanonical ensemble*. The hallmark of the microcanonical ensemble is that the number of particles, volume, and total energy are constant, thus why this ensemble is often said to be under NVE conditions. NVE is great for simulations, and seeing the potential and kinetic energies perfectly balance is a thing of beauty; however, it makes them very difficult to compare with experimental measurements. Imagine trying to mainting constant total energy in the lab, it's essentially impossible for most chemical systems! Constant temperature, on the other hand, is easy to do experimentally. If you have ever run an organic reaction in a flask that is either in an ice bath or a hot oil bath, you have done this yourself. So although we recognize that the NVE ensemble makes comparisons to experiment difficult, the goal here is to give you a gentle introduction to computational chemistry and molecular simulations, and for that, the NVE ensemble is perfect. \n",
    "\n",
    "#### An Important Note on the Microcanonical Ensemble and Temperature:\n",
    "An important thing to be aware of is that one's choice of ensemble makes it impossible to hold some pairs of observables constant! Imagine you had a sealed rigid container filled with gas (constant volume and constant number of molecules) and in contact with an oil bath at constant temperature (NVT conditions). For this NVT system, the choice to keep volume constant actually makes it impossible to maintain constant pressure inside the container! One way to think about this is that the energy in the system at a given temperature can be distributed into some combination of kinetic energy (e.g. velocity due to translational movements) and potential energy (e.g. compressing a bond), but temperature only depends on kinetic energy. In the case of our microcanonical ensemble, since the total energy is constant, any increase in potential energy means a decrease in kinetic energy, and a decrease in kinetic energy means the temperature dropped. Thus, by holding the total energy constant in the NVE ensemble, we have made it impossible to maintain a constant temperature! So although we initiate our microcanonical simulations using an initial temperature, we cannot expect the system to remain at this temperature throughout the simulation. "
   ]
  },
  {
   "cell_type": "markdown",
   "metadata": {},
   "source": [
    "## Section 1: Loading the Libraries, some Python Basics, and the Prelab Questions\n",
    "There are millions of things you can use the Python programming language to do. In fact, there is so much functionality avialable that you computer would probably crash if you tried to load all of that functionality at once. The different functionalities are developed as individual __libraries__, thus, we only load the Python libraries that we need to accomplish the goals of our project. Some of the libraries are publicly available, such as __numpy__ (for numerical operations in python), but you can also write your own libraries. Today, you will be using a combination of free publicly available libraries and also custom made libraries written by Dr. Grazioli. To load the libraries, simply place the cursor in the code cell below and press __shift + enter__. \n",
    "__Note__: the cell where the text you are currently reading is known as a __Markdown cell__. If you double click this cell (either on purpose or by accident), you'll see the text as I inputted it to create the nice looking formatted text. To bring back the nicely formatted text, just re-execute the Markdown cell using the same __shift + enter__ command. <br><br> **Note:** In order for this Jupyter notebook to execute correctly, this file (LennardJonesFluidLabl.ipynb) <u>must be in the same directory (aka folder) as the custom libraries included below</u> (e.g. classes.py, visualizationTools.py, etc.)."
   ]
  },
  {
   "cell_type": "code",
   "execution_count": 1,
   "metadata": {},
   "outputs": [],
   "source": [
    "import numpy as np\n",
    "import matplotlib.pyplot as plt\n",
    "import pandas as pd\n",
    "from classes import Ensemble \n",
    "import visualizationTools as vis\n",
    "import dynamics as dyn\n",
    "import time"
   ]
  },
  {
   "cell_type": "markdown",
   "metadata": {},
   "source": [
    "### Prelab Question 1 (3 points):\n",
    "Comments are added to code cells by first typing a # sign. The # tells the Python interpreter that anything following it on the same line is a comment and should not be interpreted as Python code. (Note that the # sign in Markdown cells (e.g. this cell) is not for comments, but is instead used to adjust formatting to show headings etc.) <br><br> Delete the # signs in the code cell below and execute that code cell to produce a plot of the Lennard-Jones potential. Next, **in your own words**, and referring to the plot you produced of the LJ potential, describe why the LJ potential is a good approximation for noble gas atoms interacting with each other. Your answer should be written <u>in this Markdown cell below where it says _Student Answer_.</u> <br>(Hint: to edit this Markdown cell, double click the cell, make your edits, then press **shift + enter** to return to the view with nicely rendered text)\n",
    "\n",
    "\n",
    "#### Student Answer:\n"
   ]
  },
  {
   "cell_type": "code",
   "execution_count": 1,
   "metadata": {},
   "outputs": [],
   "source": [
    "# sample = Ensemble()                 \n",
    "# vis.plotLJpotential(sample)"
   ]
  },
  {
   "cell_type": "markdown",
   "metadata": {},
   "source": [
    "### Prelab Question 2 (5 points):\n",
    "Create a new code cell below this Markdown cell (use the plus sign button at the top left), and write two print statements to show the values of $\\epsilon$ (epsilon) and $\\sigma$ (sigma) for the LJ potential used in the Ensemble object created above named *sample*. For example, a print statement to display epsilon value for an Ensemble object named Bob would be:<br><br> print(\"Bob's epsilon =\", Bob.epsilon). \n",
    "\n",
    "Once you have determined the values for the sigma and epsilon parameters that we'll be using for this laboratory exercise using print statements, it's time to do some math, so get out a piece of scrap paper. \n",
    "- Plug the values of $\\sigma$ and $\\epsilon$ into the LJ potential energy function (**Eq. 1** above). \n",
    "- Then take the derivative of that expression with respect to $r_{ij}$. \n",
    "- Now set the derivative expression equal to zero and solve for $r_{ij}$, which will yield the equilibrium distance for $r_{ij}$.\n",
    "- Take a picture of your work so you can submit it along with the your Jupyter notebook.\n",
    "- Edit this Markdown cell below where it says \"student answer\" to give the equilibrium bond length you have calculated mathematically. \n",
    "\n",
    "\n",
    "#### Student Answer:\n",
    "The equilibrium bond length measured between the centers of molecule $i$ and molecule $j$ is $r_{ij}$ = . "
   ]
  },
  {
   "cell_type": "code",
   "execution_count": 3,
   "metadata": {},
   "outputs": [],
   "source": []
  },
  {
   "cell_type": "markdown",
   "metadata": {},
   "source": [
    "### Prelab Question 3 (4 points):\n",
    "One can think of 3-dimensional LJ particles as being somewhat squishy spheres, and 2-dimensional LJ particles as somewhat squishy circles or disks. If the LJ particles are quite stiff, then we would expect potential energy to climb very quickly if we were to press a pair of LJ particles together, while more squishy LJ particles would still show an increase in potential energy when pressed together, but not quite as dramatic. Below is a code cell where an Ensemble object named sig1 is created and its LJ potential energy function plotted. Write a similar code right below it where an Ensemble object named sig2 has sigma=2.0 and cutfactor=2.0 (cutfactor determines the distance where forces between particles are so weak we can ignore them - here we use it to adjust the plot range of the x-axis). Next, in the area below where it says \"Student Answer\" answer the following questions:<br><br> \n",
    "Just \"eyeballing\" the plots below, which system has larger effective particle sizes, sig1 or sig2? Which system has more flexible particles (i.e. squishier particles), sig1 or sig2? Which has longer range Van der Waals-like forces?\n",
    "\n",
    "#### Student Answer:\n"
   ]
  },
  {
   "cell_type": "code",
   "execution_count": 6,
   "metadata": {},
   "outputs": [],
   "source": [
    "# sig1 = Ensemble(sigma=1.0, cutFactor=3) \n",
    "# vis.plotLJpotential(sig1)\n",
    "\n",
    "# sig2 = Ensemble(sigma=2.0, cutFactor=2) \n",
    "# vis.plotLJpotential(sig2)"
   ]
  },
  {
   "cell_type": "markdown",
   "metadata": {},
   "source": [
    "### Prelab Question 4 (5 points):\n",
    "Using the default paramters ($\\sigma=1.0$ and $\\epsilon=1.0$), and considering that positioning two LJ particles at exactly their equilibrium distance is like placing two spheres or circles so that they are just touching, calculate the area of a 2D LJ particle and the volume of a 3D LJ particle in a code cell, then enter your answers below in this Markdown cell. Hints: if you need to use $\\pi$, numpy can provide this by typing np.pi, and exponents are expressed using double asterisks in Python (e.g. $2^3$ is 2\\**3).\n",
    "\n",
    "#### Student Answers:\n",
    "2D particle area =     <br>\n",
    "3D particle volume =    "
   ]
  },
  {
   "cell_type": "code",
   "execution_count": null,
   "metadata": {},
   "outputs": [],
   "source": []
  },
  {
   "cell_type": "markdown",
   "metadata": {},
   "source": [
    "## Section 2: Simulating Dynamics for an Ensemble of Molecules \n",
    "**AN IMPORTANT NOTE ABOUT UNITS:** we are using a common convention in theoretical and computational chemistry where we set Boltzmann's constant $k_b = 1$. More specifically, in 2-dimensions we set Boltzmann's constant $k_B = 1 \\frac{Da \\; \\mathring A}{K \\; step^2}$ (Daltons, $\\mathring A$ngstroms, Kelvins, step is the simulation time step size, and per molecule is assumed the same way we assume it for Avogadro's number). For 3-dimensions, the value is the same, but $\\mathring A$ngstroms are squared: $k_B = 1 \\frac{Da \\; \\mathring A^2}{K \\; step^2}$. This little trick makes it more straightforward to code and run simulations, and the units can always be converted to something more easily compared with experiment after the simulations have been run. <br><br>\n",
    "\n",
    "In the code cell below, I have written some Python code that will create a new ensemble of 25 2-dimensional particles at an initial temperature of 1.0 Kelvin in a 2D square-shaped box of side length 10 $\\mathring A$. The code cell below that runs a 2D simulation of 1000 time steps. Execute both cells (top one first) and wait for both the simulation to finish running and the data visualization to finish rendering (the code returns messages to let you know how far along it is)."
   ]
  },
  {
   "cell_type": "code",
   "execution_count": 6,
   "metadata": {},
   "outputs": [],
   "source": [
    "# T_init = 1.0 # initial temperature\n",
    "# ensemble_1 = Ensemble(nMol = 25, sideLen=10, dim=2, periodic=True, useLJ=True, temperature=T_init) "
   ]
  },
  {
   "cell_type": "code",
   "execution_count": 7,
   "metadata": {},
   "outputs": [],
   "source": [
    "# startTime = time.time()\n",
    "# dyn.RunDynamics(ensemble_1, nSteps=1000, saveFreq=5)\n",
    "# print(\"Begin writing GIF...\")\n",
    "# vis.makeTrajMovie2D(ensemble_1.trajectory, ensemble_1.sideLen, filename = \"traj_1.gif\") # best for 2D liquid simulation\n",
    "# executionTime = (time.time() - startTime)\n",
    "# print('Simulation time: ' + str(int(executionTime / 60)) + \" min and \", str(int(executionTime) % 60) + \" seconds.\")"
   ]
  },
  {
   "cell_type": "markdown",
   "metadata": {},
   "source": [
    "**Congratulations!!** You have run your first Lennard-Jones simulation. :-) Now take a look at the LJ particles moving around by opening up the GIF file called traj1.gif that you just created in our working directory. I recommend right clicking it and opening it up in your favorite browser. <br><br>\n",
    "\n",
    "### Lab Question 1 (3 points):\n",
    "After watching the LJ particles bounce around in your simulation results, explain below in your own words what you think it means for a molecular simulation to have _periodic boundary conditions_ (you triggered them in the simulation by setting periodic=True when you created the Ensemble object). Hint: there is a very famous old video game involving ghosts that may be helpful to reference in your description of how periodic boundary conditions work. \n",
    "\n",
    "#### Student Answer"
   ]
  },
  {
   "cell_type": "markdown",
   "metadata": {},
   "source": [
    "### Lab Question 2 (2 points):\n",
    "You may have noticed that some CSV files (comma separated value) were also created when you ran the simulation. These can be opened in either a text editor or using spreadsheet software like Excel. We can also read them into a Jupyter notebook using Python. I have already written a function that reads these files that store the kinetic energy, potential energy, and total energy for the simulation over time, and plots their values. Run the code cell below and answer the following question below:\n",
    "\n",
    "What famous principle from physics is demonstrated by the relationship between the curves for kinetic energy (KE), potential energy (PE), and total energy (totEnergy)?\n",
    "\n",
    "#### Student Answer"
   ]
  },
  {
   "cell_type": "code",
   "execution_count": 8,
   "metadata": {},
   "outputs": [],
   "source": [
    "# vis.plotKEandPEandTotal(\"KE.csv\", \"PE.csv\")"
   ]
  },
  {
   "cell_type": "markdown",
   "metadata": {},
   "source": [
    "### Let's run another simulation!\n",
    "Now let's try turning off both the periodic boundary conditions and the Lennard-Jones potential by running the simulation below (named *ensemble_2*). Once the simulation has completed, open the new GIF you created in your browser, and answer the question below."
   ]
  },
  {
   "cell_type": "code",
   "execution_count": 9,
   "metadata": {},
   "outputs": [],
   "source": [
    "# ensemble_2 = Ensemble(nMol = 25, sideLen=10, dim=2, periodic=False, useLJ=False, temperature=T_init) \n",
    "\n",
    "# startTime = time.time()\n",
    "# dyn.RunDynamics(ensemble_2, nSteps=1000, saveFreq=5)\n",
    "# print(\"Begin writing GIF...\")\n",
    "# vis.makeTrajMovie2D(ensemble_2.trajectory, ensemble_2.sideLen, filename='traj2.gif') # best for 2D liquid simulation\n",
    "# executionTime = (time.time() - startTime)\n",
    "# print('Simulation time: ' + str(int(executionTime / 60)) + \" min and \", str(int(executionTime) % 60) + \" seconds.\")"
   ]
  },
  {
   "cell_type": "markdown",
   "metadata": {},
   "source": [
    "### Lab Question 3 (3 points):\n",
    "After watching the particles from the simulation of ensemble_2 moving around in the GIF, describe in your own words how you know that these motions are those of an ideal gas. Also, which parameter setting in the definition of ensemble_2 below (ensemble_2 = Ensemble(nMol = 25, sideLen=10, ...)) caused the simulation to be of ideal gas particles?\n",
    "\n",
    "#### Student Answer:"
   ]
  },
  {
   "cell_type": "markdown",
   "metadata": {},
   "source": [
    "### Lab Question 4 (2 points)\n",
    "One of the most common data structures in Python is the dictionary. You can think of a dictionary as holding keys and values. If you think about your list of contacts in your phone as a dictionary, the keys would be your contacts' names and the values are their phone numbers. The Python object type that I created called Ensemble has many attributes, each with its own name. In order to list all of them, uncomment and execute the cell below that will output all the keys from the dictionary."
   ]
  },
  {
   "cell_type": "code",
   "execution_count": 2,
   "metadata": {},
   "outputs": [],
   "source": [
    "# ensemble_2.__dict__.keys()"
   ]
  },
  {
   "cell_type": "markdown",
   "metadata": {},
   "source": [
    "Next, you need to calculate the value of Boltzmann's constant $k_B$ from the ideal gas simulation you just ran for ensemble_2. In the cell below, I have already assigned the number of molecules in ensemble_2 to the variable N. To earn the 5 points, use the correct keys to assign values from ensemble_2 to the other variables from the ideal gas equation ($PV = Nk_BT$), then use them to calculate the value of $k_B$. "
   ]
  },
  {
   "cell_type": "code",
   "execution_count": 4,
   "metadata": {},
   "outputs": [],
   "source": [
    "#N = ensemble_2.nMol\n",
    "#P = \n",
    "#V = \n",
    "#T = \n",
    "\n",
    "# solve for k_B here"
   ]
  },
  {
   "cell_type": "markdown",
   "metadata": {},
   "source": [
    "## Section 3: Calculating Van der Waals Parameters from LJ Fluid Simulations\n",
    "We begin by presenting the Van der Waals equation of state for a gas:\n",
    "\n",
    "### $$\\left(P + a \\frac{n^2}{V^2}\\right) \\left(V - b n \\right) = n R T $$\n",
    "\n",
    "The Van der Waals equation can be thought of as an equation of state for a gas that includes two corrections that improve the realism of the model compared to the ideal gas model. Since the Van der Waals equation above is for ensembles on the order of $10^{23}$ molecules, and our simulations are only on the size scale of a little less than 100 particles, it makes more sense for us to use the microscopic form of the Van der Waals equation:\n",
    "\n",
    "## $$\\left(p + \\frac{a}{v^2}\\right) \\left(v - b \\right) = k_B T $$\n",
    "\n",
    "### $$\\text{where} \\; v = \\frac{V}{N}$$\n",
    "\n",
    "The term with the parameter $a$ is a correction that adjusts for the average attraction between gas particles (aka Van der Waals forces), and the term with the parameter $b$ adjusts the volume to exclude the volume taken up by the gas particles themselves (remember that an ideal gas assumes the particles to be volumeless points in space). We already calculated the volume of a 3D LJ spherical particle above, so first we'll set $b$ equal to that value in a code cell below:"
   ]
  },
  {
   "cell_type": "code",
   "execution_count": 12,
   "metadata": {},
   "outputs": [],
   "source": [
    "# Define b here\n",
    "\n",
    "# b = "
   ]
  },
  {
   "cell_type": "markdown",
   "metadata": {},
   "source": [
    "### Using Squared Error to Obtain the Best Van der Waals Parameter $a$ from a Set of Simulations\n",
    "If we do some algebra, and set $k_B = 1$ (remember that this was also done in our molecular simulations), we find that we can rearrange the microscopic Van der Waals equation of state as the following expression for pressure:\n",
    "### $$ p = \\frac{-a b + a v - T v^2}{b v^2 - v^3}$$\n",
    "\n",
    "Thus, given that we can obtain values for pressure, temperature, and volume from our LJ fluid simulations, and that we have already calculated the value of b (volume of one particle) by using the minimum of the Lennard-Jones potential as the radius of our spherical particles, the only piece missing is the Van der Waals parameter $a$! The simplest thing to do is to use our computers to try a whole bunch of values for $a$, and then select the best one. So how do we know which is the best one? The process will go like this:\n",
    "- run multiple simulations over a range of initial temperatures of interest (more approximate models, like the Van der Waals model, are often parameterized to be most accurate within a temperature range of interest)\n",
    "- save the pressure and temperature values for each simulation\n",
    "- create about 100 or so Van der Waals models, each with a different value of $a$ (takes less than a second to run)\n",
    "- carry out a squared error test to check which parameter $a$ has the closest fit to our simulation data (the one with the minimum squared error)\n",
    "- That's it! We just need to pair the $a$ value with the $b$ value we already calculated, and we have created a Van der Waals model of our Lennard-Jones fluid. "
   ]
  },
  {
   "cell_type": "markdown",
   "metadata": {},
   "source": [
    "### Collecting the Simulation Data\n",
    "We'll need to run multiple simulations using the LJ fluid simulation code, each with a different initial temperature while holding $N$ and $V$ constant (constant volume is called isochoric). \n",
    "\n",
    "\n",
    "I have given you the code for a single 3D simulation below, then use the function writeXYZ() from the visualizationTools library (another user-defined library written by Dr. G) to generate .xyz files so we can watch the LJ particles bounce around in 3D dimensions using high quality rendering. Note that we do not need to produce data visualizations for all of these simulations, although students who are familiar with software like Pymol or VMD may want to try using them to watch the simulations in action (note to Chimera users: it doesn't seem to like .xyz files with multiple frames). If you don't want to try looking at a 3D rendering, please be sure to watch me do it in the YouTube video that accompanies this laboratory exercise. "
   ]
  },
  {
   "cell_type": "code",
   "execution_count": 10,
   "metadata": {},
   "outputs": [],
   "source": [
    "# testSim = Ensemble(nMol = 64, sideLen=8, dim=3, periodic=True, useLJ=True, temperature=1.0) \n",
    "# startTime = time.time()\n",
    "# dyn.RunDynamics(testSim, nSteps=1500, saveFreq=5)\n",
    "# executionTime = (time.time() - startTime)\n",
    "# print('Simulation time: ' + str(int(executionTime / 60)) + \" min and \", str(int(executionTime) % 60) + \" seconds.\")"
   ]
  },
  {
   "cell_type": "code",
   "execution_count": 14,
   "metadata": {},
   "outputs": [],
   "source": [
    "# vis.writeXYZ(testSim, \"testSim.xyz\")"
   ]
  },
  {
   "cell_type": "markdown",
   "metadata": {},
   "source": [
    "### Running the Simulations\n",
    "**NOTE:** This section will require you to write some Python code, but you don't need to do it alone! <u>**Please follow along with the video,**</u> as I demonstrate how to do it for someone who has never written any Python code before. First, let's define a range of 10 temperatures between .5 K and 2 K using the numpy function *linspace()*.\n",
    "### Defining the Temperature Range (5 points):"
   ]
  },
  {
   "cell_type": "code",
   "execution_count": 5,
   "metadata": {},
   "outputs": [],
   "source": [
    "# temps = \n",
    "# print(temps)"
   ]
  },
  {
   "cell_type": "markdown",
   "metadata": {},
   "source": [
    "Next, we'll run a set of 10 Lennard-Jones fluid simulations, one for each of these temperatures. There is something called a *for loop* in computer programming that gives us an easy way to tell the computer to run one simulation for each temperature. Again, <u>**please follow along with the video,**</u> where I will show you exactly how to do this.\n",
    "### Running 10 simulations (6 points):"
   ]
  },
  {
   "cell_type": "code",
   "execution_count": null,
   "metadata": {},
   "outputs": [],
   "source": [
    "# write simulation for loop here"
   ]
  },
  {
   "cell_type": "markdown",
   "metadata": {},
   "source": [
    "There are many ways to store data sets in the Python programming language, but one of the most useful is the Pandas DataFrame (Pandas is the name of the library we load to gain the use of DataFrame objects). You can think of a DataFrame is being similar to a spreadsheet that you only look at when you want to see it. Why wouldn't you want to look at a spreadsheet? Imagine a data set in spreadsheet with 1 million rows and 1000 columns. Do you want to have to scroll through that?! Spreadsheets, like those in Excel, are great for recording data in the lab or working with small data sets, but DataFrames are far superior if you need to work with massive data sets. Here, we'll create a DataFrame called LJdataForFit that will hold all the temperatures and pressures for our simulations.\n",
    "\n",
    "Once again, <u>**please follow along with the video,**</u> where I will show you exactly how to do this.\n",
    "### Storing the Simulation Data in a DataFrame (5 points):"
   ]
  },
  {
   "cell_type": "code",
   "execution_count": 17,
   "metadata": {},
   "outputs": [],
   "source": [
    "# LJdataForFit =  "
   ]
  },
  {
   "cell_type": "code",
   "execution_count": 11,
   "metadata": {},
   "outputs": [],
   "source": [
    "# LJdataForFit"
   ]
  },
  {
   "cell_type": "markdown",
   "metadata": {},
   "source": [
    "Below is code that will produce a plot of pressure as a function of temperature for the different simulation temperatures we ran. **Please note:** the simulations are initiated with randomly oriented velocities, so everyone's simulation will be slightly different. Also, remember that because we are running an NVE simulation, total energy is constant, therefore temperature cannot be held constant, so the temperatures will be slightly different as well. So if your data looks different from your friend's or mine, don't panic! You should see an overall trend of pressure increasing with temperature, which of course we expect. "
   ]
  },
  {
   "cell_type": "code",
   "execution_count": 12,
   "metadata": {},
   "outputs": [],
   "source": [
    "# fig = plt.plot(LJdataForFit.Temp, LJdataForFit.P, 'o')\n",
    "# plt.xlabel(\"Temperature\")\n",
    "# plt.ylabel(\"Pressure\")\n",
    "# plt.show()"
   ]
  },
  {
   "cell_type": "markdown",
   "metadata": {},
   "source": [
    "### Optimizing the Van der Waals Parameter $a$ for our LJ Fluid\n",
    "One of the main goals of this laboratory exercise is to give physical chemistry students a very gentle introduction to computational chemistry, and computational chemists are very good at writing computer codes that do mathematical operations. With that in mind, here we'll define a function called getVanDerWaalsPressure(), that we can give it values for temperature, volume, number of particles, and the parameters $a$ and $b$, and it will return to us the pressure of the system according to the Van der Waals equation (again, <u>follow along with the video if you're not sure what to do </u>).\n",
    "\n",
    "### Defining the getVanDerWaalsPressure() function (5 points):"
   ]
  },
  {
   "cell_type": "code",
   "execution_count": 13,
   "metadata": {},
   "outputs": [],
   "source": [
    "#def getVanDerWaalsPressure(T, V, N, a, b):"
   ]
  },
  {
   "cell_type": "markdown",
   "metadata": {},
   "source": [
    "The functions I have defined for you below are for running the $\\chi^2$ test, you're welcome! ;-)"
   ]
  },
  {
   "cell_type": "code",
   "execution_count": 21,
   "metadata": {},
   "outputs": [],
   "source": [
    "def getSquaredErrorForVDW(simList, a, b):\n",
    "    vdwPoints = []\n",
    "    pFromSims = np.array([sim.pressure for sim in simList])\n",
    "    for sim in simList:\n",
    "        vdwPoints.append(getVanDerWaalsPressure(sim.temperature, sim.volume, sim.nMol, a, b))\n",
    "    vdw = np.array(vdwPoints)\n",
    "    return([a, sum((pFromSims - vdw)**2)])\n",
    "\n",
    "def test_a_values(simList, aList, b):\n",
    "    out = []\n",
    "    for a in aList:\n",
    "        out.append(getSquaredErrorForVDW(simList, a, b))\n",
    "    return(pd.DataFrame(out, columns=['a', 'SqEr']))"
   ]
  },
  {
   "cell_type": "markdown",
   "metadata": {},
   "source": [
    "Next, let's use the same linspace command from numpy, which we first used to generate a range of temperatures, to generate a set of 200 $a$ values ranging from -1 to 1.\n",
    "### Defining a Range of $a$ Values (2 points):"
   ]
  },
  {
   "cell_type": "code",
   "execution_count": 22,
   "metadata": {},
   "outputs": [],
   "source": [
    "# aList = \n",
    "#print(aList)"
   ]
  },
  {
   "cell_type": "markdown",
   "metadata": {},
   "source": [
    "Next, we'll use the function test_a_values(), defined above, to see how our different $a$ values performed."
   ]
  },
  {
   "cell_type": "code",
   "execution_count": 23,
   "metadata": {},
   "outputs": [],
   "source": [
    "# a_test_DF = test_a_values(sims, aList, b)"
   ]
  },
  {
   "cell_type": "code",
   "execution_count": 14,
   "metadata": {},
   "outputs": [],
   "source": [
    "# plt.plot(a_test_DF.a, a_test_DF.SqEr, 'o', alpha=.3)\n",
    "# plt.show()"
   ]
  },
  {
   "cell_type": "markdown",
   "metadata": {},
   "source": [
    "We note that we have definitely found the minimum! By eye, we can see its approximate value, but we can use Python to tell us exactly which point is the lowest. The numpy function argmin is the best tool to use here, but if you're not sure how to use it, <u>simply follow along with the accompanying YouTube video </u>.\n",
    "### Finding the Best $a$ Value (5 points):"
   ]
  },
  {
   "cell_type": "code",
   "execution_count": null,
   "metadata": {},
   "outputs": [],
   "source": []
  },
  {
   "cell_type": "code",
   "execution_count": 15,
   "metadata": {},
   "outputs": [],
   "source": [
    "# Find best a value here:\n",
    "# best_a = "
   ]
  },
  {
   "cell_type": "markdown",
   "metadata": {},
   "source": [
    "Now that we have the optimal value of $a$ for approximating the behavior of out LJ fluid using the Van der Waals equation, let's plot the pressure vs. temperature values from the simulations as points with a line plot of the pressure values predicted for each temperature from the Van der Waals equation. Below is an **incomplete code** that you'll need to uncomment and edit to create a DataFrame of Van der Waals predictions for pressure and temperature given our newly discovered values for the parameters $a$ and $b$. Once again, **please follow along with the video for help figuring out how to do this**.\n",
    "### Creating a DataFrame Containing the Van der Waals Predictions (5 points):"
   ]
  },
  {
   "cell_type": "code",
   "execution_count": 16,
   "metadata": {},
   "outputs": [],
   "source": [
    "# vdwPoints = []\n",
    "# for sim in sims:\n",
    "#    vdwPoints.append()\n",
    "# vdwDF = pd.DataFrame(vdwPoints, columns=['Temp','P'])"
   ]
  },
  {
   "cell_type": "markdown",
   "metadata": {},
   "source": [
    "Uncomment the code below to see a plot where the values of pressure as a function of temperature from the LJ fluid simulations is shown as points and the Van der Waals prediction is shown as a line through those points. "
   ]
  },
  {
   "cell_type": "code",
   "execution_count": 17,
   "metadata": {},
   "outputs": [],
   "source": [
    "# fig = plt.plot(LJdataForFit.Temp, LJdataForFit.P, 'o')\n",
    "# plt.xlabel(\"Temperature\")\n",
    "# plt.ylabel(\"Pressure\")\n",
    "# plt.plot(vdwDF.Temp, vdwDF.P, alpha=.75)\n",
    "# plt.show()"
   ]
  },
  {
   "cell_type": "markdown",
   "metadata": {},
   "source": [
    "## Conclusion:\n",
    "I hope you had fun getting a small taste of running molecular simulations! To complete this assignment, please replace the words \"your answer\" below for both parameters $a$ and $b$ and submit your completed Jupyter notebook (remember, this Jupyter notebook that you're reading and editing in your browser actually lives on your computer as a .ipynb file).\n",
    "\n",
    "## $$\\left(p + \\frac{a}{v^2}\\right) \\left(v - b \\right) = k_B T $$\n",
    "\n",
    "### $$\\text{where} \\; v = \\frac{V}{N} \\; a = your answer \\; b = your answer $$"
   ]
  },
  {
   "cell_type": "code",
   "execution_count": null,
   "metadata": {},
   "outputs": [],
   "source": []
  }
 ],
 "metadata": {
  "kernelspec": {
   "display_name": "Python 3",
   "language": "python",
   "name": "python3"
  },
  "language_info": {
   "codemirror_mode": {
    "name": "ipython",
    "version": 3
   },
   "file_extension": ".py",
   "mimetype": "text/x-python",
   "name": "python",
   "nbconvert_exporter": "python",
   "pygments_lexer": "ipython3",
   "version": "3.8.3"
  }
 },
 "nbformat": 4,
 "nbformat_minor": 4
}
